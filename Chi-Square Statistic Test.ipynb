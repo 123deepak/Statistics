{
 "cells": [
  {
   "cell_type": "code",
   "execution_count": 1,
   "metadata": {
    "collapsed": true
   },
   "outputs": [],
   "source": [
    "import numpy as np\n",
    "import matplotlib.pyplot as plt\n",
    "from scipy.stats import chi2"
   ]
  },
  {
   "cell_type": "code",
   "execution_count": 2,
   "metadata": {
    "collapsed": true
   },
   "outputs": [],
   "source": [
    "observed = [30, 14, 34, 45, 57, 20]\n",
    "expected = [20, 20, 30, 40, 60, 30]"
   ]
  },
  {
   "cell_type": "code",
   "execution_count": 3,
   "metadata": {
    "collapsed": true
   },
   "outputs": [],
   "source": [
    "def get_chi_square_statistic(observed, expected):\n",
    "    return sum([((o - e)**2)/e for o, e in zip(observed, expected)])"
   ]
  },
  {
   "cell_type": "code",
   "execution_count": 4,
   "metadata": {},
   "outputs": [
    {
     "data": {
      "text/plain": [
       "11.441666666666666"
      ]
     },
     "execution_count": 4,
     "metadata": {},
     "output_type": "execute_result"
    }
   ],
   "source": [
    "chi_square_statistic = get_chi_square_statistic(observed, expected)\n",
    "chi_square_statistic"
   ]
  },
  {
   "cell_type": "code",
   "execution_count": 5,
   "metadata": {},
   "outputs": [
    {
     "name": "stdout",
     "output_type": "stream",
     "text": [
      "critical value:  11.070497693516351\n"
     ]
    }
   ],
   "source": [
    "degree_of_freedom = 6-1\n",
    "alpha = 0.05\n",
    "\n",
    "critical_value = chi2.ppf(q = 1-alpha, df = degree_of_freedom)\n",
    "print('critical value: ', critical_value)"
   ]
  },
  {
   "cell_type": "code",
   "execution_count": 6,
   "metadata": {},
   "outputs": [
    {
     "name": "stdout",
     "output_type": "stream",
     "text": [
      "Reject the null hypothesis because chi_square_statistic is larger than the critical value\n"
     ]
    }
   ],
   "source": [
    "if critical_value < chi_square_statistic:\n",
    "    print(\"Reject the null hypothesis because chi_square_statistic is larger than the critical value\")\n",
    "else:\n",
    "    print(\"Fail to Reject the null hypothesis\")"
   ]
  },
  {
   "cell_type": "raw",
   "metadata": {},
   "source": [
    "Ref: https://www.youtube.com/watch?v=2QeDRsxSF9M\n",
    "     https://medium.com/@geekrodion/statistics-pearsons-chi-squared-test-95fe36d74c1c   "
   ]
  }
 ],
 "metadata": {
  "kernelspec": {
   "display_name": "Python 3",
   "language": "python",
   "name": "python3"
  },
  "language_info": {
   "codemirror_mode": {
    "name": "ipython",
    "version": 3
   },
   "file_extension": ".py",
   "mimetype": "text/x-python",
   "name": "python",
   "nbconvert_exporter": "python",
   "pygments_lexer": "ipython3",
   "version": "3.6.3"
  }
 },
 "nbformat": 4,
 "nbformat_minor": 2
}
