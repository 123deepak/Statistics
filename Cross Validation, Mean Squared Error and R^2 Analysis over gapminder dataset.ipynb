{
 "cells": [
  {
   "cell_type": "code",
   "execution_count": 64,
   "metadata": {
    "collapsed": true
   },
   "outputs": [],
   "source": [
    "import pandas as pd\n",
    "import numpy as np\n",
    "from sklearn.preprocessing import StandardScaler\n",
    "from sklearn.model_selection import train_test_split\n",
    "import seaborn as sns\n",
    "import matplotlib.pyplot as plt\n",
    "from sklearn.linear_model import LinearRegression\n",
    "import warnings\n",
    "warnings.filterwarnings(\"ignore\")\n",
    "from sklearn.metrics import mean_squared_error\n",
    "from sklearn.model_selection import cross_val_score"
   ]
  },
  {
   "cell_type": "code",
   "execution_count": 65,
   "metadata": {
    "collapsed": true
   },
   "outputs": [],
   "source": [
    "data = pd.read_csv('C:\\\\Users\\\\Deepak\\\\Downloads\\\\gapminder.csv')"
   ]
  },
  {
   "cell_type": "code",
   "execution_count": 66,
   "metadata": {},
   "outputs": [
    {
     "data": {
      "text/plain": [
       "(139, 10)"
      ]
     },
     "execution_count": 66,
     "metadata": {},
     "output_type": "execute_result"
    }
   ],
   "source": [
    "data.shape"
   ]
  },
  {
   "cell_type": "code",
   "execution_count": 67,
   "metadata": {},
   "outputs": [
    {
     "data": {
      "text/html": [
       "<div>\n",
       "<style scoped>\n",
       "    .dataframe tbody tr th:only-of-type {\n",
       "        vertical-align: middle;\n",
       "    }\n",
       "\n",
       "    .dataframe tbody tr th {\n",
       "        vertical-align: top;\n",
       "    }\n",
       "\n",
       "    .dataframe thead th {\n",
       "        text-align: right;\n",
       "    }\n",
       "</style>\n",
       "<table border=\"1\" class=\"dataframe\">\n",
       "  <thead>\n",
       "    <tr style=\"text-align: right;\">\n",
       "      <th></th>\n",
       "      <th>population</th>\n",
       "      <th>fertility</th>\n",
       "      <th>HIV</th>\n",
       "      <th>CO2</th>\n",
       "      <th>BMI_male</th>\n",
       "      <th>GDP</th>\n",
       "      <th>BMI_female</th>\n",
       "      <th>life</th>\n",
       "      <th>child_mortality</th>\n",
       "      <th>Region</th>\n",
       "    </tr>\n",
       "  </thead>\n",
       "  <tbody>\n",
       "    <tr>\n",
       "      <th>0</th>\n",
       "      <td>34811059.0</td>\n",
       "      <td>2.73</td>\n",
       "      <td>0.1</td>\n",
       "      <td>3.328945</td>\n",
       "      <td>24.59620</td>\n",
       "      <td>12314.0</td>\n",
       "      <td>129.9049</td>\n",
       "      <td>75.3</td>\n",
       "      <td>29.5</td>\n",
       "      <td>Middle East &amp; North Africa</td>\n",
       "    </tr>\n",
       "    <tr>\n",
       "      <th>1</th>\n",
       "      <td>19842251.0</td>\n",
       "      <td>6.43</td>\n",
       "      <td>2.0</td>\n",
       "      <td>1.474353</td>\n",
       "      <td>22.25083</td>\n",
       "      <td>7103.0</td>\n",
       "      <td>130.1247</td>\n",
       "      <td>58.3</td>\n",
       "      <td>192.0</td>\n",
       "      <td>Sub-Saharan Africa</td>\n",
       "    </tr>\n",
       "    <tr>\n",
       "      <th>2</th>\n",
       "      <td>40381860.0</td>\n",
       "      <td>2.24</td>\n",
       "      <td>0.5</td>\n",
       "      <td>4.785170</td>\n",
       "      <td>27.50170</td>\n",
       "      <td>14646.0</td>\n",
       "      <td>118.8915</td>\n",
       "      <td>75.5</td>\n",
       "      <td>15.4</td>\n",
       "      <td>America</td>\n",
       "    </tr>\n",
       "    <tr>\n",
       "      <th>3</th>\n",
       "      <td>2975029.0</td>\n",
       "      <td>1.40</td>\n",
       "      <td>0.1</td>\n",
       "      <td>1.804106</td>\n",
       "      <td>25.35542</td>\n",
       "      <td>7383.0</td>\n",
       "      <td>132.8108</td>\n",
       "      <td>72.5</td>\n",
       "      <td>20.0</td>\n",
       "      <td>Europe &amp; Central Asia</td>\n",
       "    </tr>\n",
       "    <tr>\n",
       "      <th>4</th>\n",
       "      <td>21370348.0</td>\n",
       "      <td>1.96</td>\n",
       "      <td>0.1</td>\n",
       "      <td>18.016313</td>\n",
       "      <td>27.56373</td>\n",
       "      <td>41312.0</td>\n",
       "      <td>117.3755</td>\n",
       "      <td>81.5</td>\n",
       "      <td>5.2</td>\n",
       "      <td>East Asia &amp; Pacific</td>\n",
       "    </tr>\n",
       "  </tbody>\n",
       "</table>\n",
       "</div>"
      ],
      "text/plain": [
       "   population  fertility  HIV        CO2  BMI_male      GDP  BMI_female  life  \\\n",
       "0  34811059.0       2.73  0.1   3.328945  24.59620  12314.0    129.9049  75.3   \n",
       "1  19842251.0       6.43  2.0   1.474353  22.25083   7103.0    130.1247  58.3   \n",
       "2  40381860.0       2.24  0.5   4.785170  27.50170  14646.0    118.8915  75.5   \n",
       "3   2975029.0       1.40  0.1   1.804106  25.35542   7383.0    132.8108  72.5   \n",
       "4  21370348.0       1.96  0.1  18.016313  27.56373  41312.0    117.3755  81.5   \n",
       "\n",
       "   child_mortality                      Region  \n",
       "0             29.5  Middle East & North Africa  \n",
       "1            192.0          Sub-Saharan Africa  \n",
       "2             15.4                     America  \n",
       "3             20.0       Europe & Central Asia  \n",
       "4              5.2         East Asia & Pacific  "
      ]
     },
     "execution_count": 67,
     "metadata": {},
     "output_type": "execute_result"
    }
   ],
   "source": [
    "data.head()"
   ]
  },
  {
   "cell_type": "code",
   "execution_count": 68,
   "metadata": {},
   "outputs": [
    {
     "data": {
      "text/plain": [
       "population         float64\n",
       "fertility          float64\n",
       "HIV                float64\n",
       "CO2                float64\n",
       "BMI_male           float64\n",
       "GDP                float64\n",
       "BMI_female         float64\n",
       "life               float64\n",
       "child_mortality    float64\n",
       "Region              object\n",
       "dtype: object"
      ]
     },
     "execution_count": 68,
     "metadata": {},
     "output_type": "execute_result"
    }
   ],
   "source": [
    "data.dtypes"
   ]
  },
  {
   "cell_type": "code",
   "execution_count": 69,
   "metadata": {},
   "outputs": [
    {
     "data": {
      "text/plain": [
       "population         0\n",
       "fertility          0\n",
       "HIV                0\n",
       "CO2                0\n",
       "BMI_male           0\n",
       "GDP                0\n",
       "BMI_female         0\n",
       "life               0\n",
       "child_mortality    0\n",
       "Region             0\n",
       "dtype: int64"
      ]
     },
     "execution_count": 69,
     "metadata": {},
     "output_type": "execute_result"
    }
   ],
   "source": [
    "data.isnull().sum()"
   ]
  },
  {
   "cell_type": "code",
   "execution_count": 70,
   "metadata": {},
   "outputs": [
    {
     "data": {
      "text/plain": [
       "population         1.199289e+16\n",
       "fertility          2.609370e+00\n",
       "HIV                1.943905e+01\n",
       "CO2                3.929220e+01\n",
       "BMI_male           4.881308e+00\n",
       "GDP                3.689203e+08\n",
       "BMI_female         1.999876e+01\n",
       "life               8.321434e+01\n",
       "child_mortality    2.090745e+03\n",
       "dtype: float64"
      ]
     },
     "execution_count": 70,
     "metadata": {},
     "output_type": "execute_result"
    }
   ],
   "source": [
    "data.var()"
   ]
  },
  {
   "cell_type": "code",
   "execution_count": 71,
   "metadata": {},
   "outputs": [
    {
     "data": {
      "text/html": [
       "<div>\n",
       "<style scoped>\n",
       "    .dataframe tbody tr th:only-of-type {\n",
       "        vertical-align: middle;\n",
       "    }\n",
       "\n",
       "    .dataframe tbody tr th {\n",
       "        vertical-align: top;\n",
       "    }\n",
       "\n",
       "    .dataframe thead th {\n",
       "        text-align: right;\n",
       "    }\n",
       "</style>\n",
       "<table border=\"1\" class=\"dataframe\">\n",
       "  <thead>\n",
       "    <tr style=\"text-align: right;\">\n",
       "      <th></th>\n",
       "      <th>population</th>\n",
       "      <th>fertility</th>\n",
       "      <th>HIV</th>\n",
       "      <th>CO2</th>\n",
       "      <th>BMI_male</th>\n",
       "      <th>GDP</th>\n",
       "      <th>BMI_female</th>\n",
       "      <th>life</th>\n",
       "      <th>child_mortality</th>\n",
       "    </tr>\n",
       "  </thead>\n",
       "  <tbody>\n",
       "    <tr>\n",
       "      <th>0</th>\n",
       "      <td>-0.006312</td>\n",
       "      <td>-0.170924</td>\n",
       "      <td>-0.413288</td>\n",
       "      <td>-0.181071</td>\n",
       "      <td>-0.012199</td>\n",
       "      <td>-0.225978</td>\n",
       "      <td>0.718822</td>\n",
       "      <td>0.626793</td>\n",
       "      <td>-0.342343</td>\n",
       "    </tr>\n",
       "    <tr>\n",
       "      <th>1</th>\n",
       "      <td>-0.143492</td>\n",
       "      <td>2.127879</td>\n",
       "      <td>0.019209</td>\n",
       "      <td>-0.478008</td>\n",
       "      <td>-1.077595</td>\n",
       "      <td>-0.498262</td>\n",
       "      <td>0.768150</td>\n",
       "      <td>-1.243534</td>\n",
       "      <td>3.224390</td>\n",
       "    </tr>\n",
       "    <tr>\n",
       "      <th>2</th>\n",
       "      <td>0.044742</td>\n",
       "      <td>-0.475360</td>\n",
       "      <td>-0.322236</td>\n",
       "      <td>0.052083</td>\n",
       "      <td>1.307639</td>\n",
       "      <td>-0.104127</td>\n",
       "      <td>-1.752833</td>\n",
       "      <td>0.648797</td>\n",
       "      <td>-0.651826</td>\n",
       "    </tr>\n",
       "    <tr>\n",
       "      <th>3</th>\n",
       "      <td>-0.298071</td>\n",
       "      <td>-0.997250</td>\n",
       "      <td>-0.413288</td>\n",
       "      <td>-0.425211</td>\n",
       "      <td>0.332681</td>\n",
       "      <td>-0.483632</td>\n",
       "      <td>1.370971</td>\n",
       "      <td>0.318739</td>\n",
       "      <td>-0.550860</td>\n",
       "    </tr>\n",
       "    <tr>\n",
       "      <th>4</th>\n",
       "      <td>-0.129488</td>\n",
       "      <td>-0.649324</td>\n",
       "      <td>-0.413288</td>\n",
       "      <td>2.170503</td>\n",
       "      <td>1.335817</td>\n",
       "      <td>1.289221</td>\n",
       "      <td>-2.093057</td>\n",
       "      <td>1.308913</td>\n",
       "      <td>-0.875707</td>\n",
       "    </tr>\n",
       "  </tbody>\n",
       "</table>\n",
       "</div>"
      ],
      "text/plain": [
       "   population  fertility       HIV       CO2  BMI_male       GDP  BMI_female  \\\n",
       "0   -0.006312  -0.170924 -0.413288 -0.181071 -0.012199 -0.225978    0.718822   \n",
       "1   -0.143492   2.127879  0.019209 -0.478008 -1.077595 -0.498262    0.768150   \n",
       "2    0.044742  -0.475360 -0.322236  0.052083  1.307639 -0.104127   -1.752833   \n",
       "3   -0.298071  -0.997250 -0.413288 -0.425211  0.332681 -0.483632    1.370971   \n",
       "4   -0.129488  -0.649324 -0.413288  2.170503  1.335817  1.289221   -2.093057   \n",
       "\n",
       "       life  child_mortality  \n",
       "0  0.626793        -0.342343  \n",
       "1 -1.243534         3.224390  \n",
       "2  0.648797        -0.651826  \n",
       "3  0.318739        -0.550860  \n",
       "4  1.308913        -0.875707  "
      ]
     },
     "execution_count": 71,
     "metadata": {},
     "output_type": "execute_result"
    }
   ],
   "source": [
    "cols = ['population', 'fertility', 'HIV', 'CO2', 'BMI_male', 'GDP', 'BMI_female', 'life', 'child_mortality']\n",
    "data = data[cols]\n",
    "ss = StandardScaler()\n",
    "data = pd.DataFrame(ss.fit_transform(data), columns = cols)\n",
    "data.head()"
   ]
  },
  {
   "cell_type": "code",
   "execution_count": 72,
   "metadata": {},
   "outputs": [
    {
     "data": {
      "text/plain": [
       "population         1.007246\n",
       "fertility          1.007246\n",
       "HIV                1.007246\n",
       "CO2                1.007246\n",
       "BMI_male           1.007246\n",
       "GDP                1.007246\n",
       "BMI_female         1.007246\n",
       "life               1.007246\n",
       "child_mortality    1.007246\n",
       "dtype: float64"
      ]
     },
     "execution_count": 72,
     "metadata": {},
     "output_type": "execute_result"
    }
   ],
   "source": [
    "data.var()"
   ]
  },
  {
   "cell_type": "code",
   "execution_count": 73,
   "metadata": {
    "collapsed": true
   },
   "outputs": [],
   "source": [
    "Corr_matrix = data.corr()"
   ]
  },
  {
   "cell_type": "code",
   "execution_count": 74,
   "metadata": {},
   "outputs": [
    {
     "data": {
      "image/png": "[encoded data removed]",
      "text/plain": [
       "<matplotlib.figure.Figure at 0x164d372cf28>"
      ]
     },
     "metadata": {},
     "output_type": "display_data"
    }
   ],
   "source": [
    "colormap = sns.diverging_palette(240, 10, n=9)\n",
    "plt.subplots(figsize=(7, 7))\n",
    "mask = np.tri(Corr_matrix.shape[0], k=0) #Masking the lower triangle\n",
    "sns.heatmap(Corr_matrix, cmap=colormap, annot=True, linewidths=.5, mask=mask) \n",
    "plt.show()"
   ]
  },
  {
   "cell_type": "code",
   "execution_count": 75,
   "metadata": {},
   "outputs": [
    {
     "data": {
      "image/png": "[encoded data removed]",
      "text/plain": [
       "<matplotlib.figure.Figure at 0x164d37c9588>"
      ]
     },
     "metadata": {},
     "output_type": "display_data"
    }
   ],
   "source": [
    "# Above graph shows that life and fertility are highly related but negatively. Let's try to predict life expentency by this feature\n",
    "sns.regplot(data['fertility'], data['life'])\n",
    "plt.show()"
   ]
  },
  {
   "cell_type": "code",
   "execution_count": 76,
   "metadata": {
    "collapsed": true
   },
   "outputs": [],
   "source": [
    "# Let's predict using Life and Fertility columns\n",
    "X = pd.DataFrame(data['fertility'], columns = ['fertility'])\n",
    "y = pd.DataFrame(data['life'], columns = ['life'])"
   ]
  },
  {
   "cell_type": "code",
   "execution_count": 77,
   "metadata": {
    "collapsed": true
   },
   "outputs": [],
   "source": [
    "X_train, X_test, y_train, y_test = train_test_split(X, y, test_size = 0.3)"
   ]
  },
  {
   "cell_type": "code",
   "execution_count": 78,
   "metadata": {},
   "outputs": [
    {
     "name": "stdout",
     "output_type": "stream",
     "text": [
      "Model accuracy i.e. R^2 on the trainining set is 0.6394568737365937\n",
      "Model accuracy i.e. R^2 on the test set is 0.57197206391549\n"
     ]
    }
   ],
   "source": [
    "model = LinearRegression()\n",
    "model.fit(X_train, y_train)\n",
    "\n",
    "# Print R^2 \n",
    "print(\"Model accuracy i.e. R^2 on the trainining set is {0}\".format(model.score(X_train, y_train)))\n",
    "\n",
    "# Print R^2 \n",
    "print(\"Model accuracy i.e. R^2 on the test set is {0}\".format(model.score(X_test, y_test)))"
   ]
  },
  {
   "cell_type": "code",
   "execution_count": 79,
   "metadata": {},
   "outputs": [
    {
     "name": "stdout",
     "output_type": "stream",
     "text": [
      "Mean Squared error i.e. the average deviation of predicted values from actual values:\n",
      "1) For Training set: 0.5977164847525053\n",
      "2) For Test set: 0.6604315129273067\n"
     ]
    }
   ],
   "source": [
    "print(\"Mean Squared error i.e. the average deviation of predicted values from actual values:\")\n",
    "y_train_pred = model.predict(X_train)\n",
    "train_rmse = np.sqrt(mean_squared_error(y_train, y_train_pred))\n",
    "print(\"1) For Training set: {0}\".format(train_rmse))\n",
    "\n",
    "y_test_pred = model.predict(X_test)\n",
    "test_rmse = np.sqrt(mean_squared_error(y_test, y_test_pred))\n",
    "print(\"2) For Test set: {0}\".format(test_rmse))"
   ]
  },
  {
   "cell_type": "code",
   "execution_count": 80,
   "metadata": {},
   "outputs": [
    {
     "data": {
      "image/png": "[encoded data removed]",
      "text/plain": [
       "<matplotlib.figure.Figure at 0x164d37c9b70>"
      ]
     },
     "metadata": {},
     "output_type": "display_data"
    }
   ],
   "source": [
    "prediction_space = np.linspace(min(X_train['fertility']), max(X_train['fertility'])).reshape(-1,1)\n",
    "y_pred = model.predict(prediction_space)\n",
    "plt.scatter(X_train['fertility'], y_train['life'])\n",
    "plt.plot(prediction_space, y_pred)\n",
    "plt.show()"
   ]
  },
  {
   "cell_type": "markdown",
   "metadata": {},
   "source": [
    "Now, trying to decrease the Mean Squared Error and model accuracy by considering all the feature set"
   ]
  },
  {
   "cell_type": "code",
   "execution_count": 81,
   "metadata": {
    "collapsed": true
   },
   "outputs": [],
   "source": [
    "X = data.drop(['life'], axis = 1)\n",
    "y = pd.DataFrame(data['life'], columns = ['life'])"
   ]
  },
  {
   "cell_type": "code",
   "execution_count": 82,
   "metadata": {
    "collapsed": true
   },
   "outputs": [],
   "source": [
    "X_train, X_test, y_train, y_test = train_test_split(X, y, test_size = 0.3)"
   ]
  },
  {
   "cell_type": "code",
   "execution_count": 83,
   "metadata": {},
   "outputs": [
    {
     "name": "stdout",
     "output_type": "stream",
     "text": [
      "Model accuracy i.e. R^2 on the trainining set is 0.8936772744420741\n",
      "Model accuracy i.e. R^2 on the test set is 0.8927523903650123\n"
     ]
    }
   ],
   "source": [
    "model = LinearRegression()\n",
    "model.fit(X_train, y_train)\n",
    "\n",
    "# Print R^2 \n",
    "print(\"Model accuracy i.e. R^2 on the trainining set is {0}\".format(model.score(X_train, y_train)))\n",
    "\n",
    "# Print R^2 \n",
    "print(\"Model accuracy i.e. R^2 on the test set is {0}\".format(model.score(X_test, y_test)))"
   ]
  },
  {
   "cell_type": "markdown",
   "metadata": {},
   "source": [
    "It can be clearly seen that the accuracy has been inceased post considering all the features in modeling"
   ]
  },
  {
   "cell_type": "code",
   "execution_count": 84,
   "metadata": {},
   "outputs": [
    {
     "name": "stdout",
     "output_type": "stream",
     "text": [
      "Mean Squared error i.e. the average deviation of predicted values from actual values:\n",
      "1) For Training set: 0.3312147568213292\n",
      "2) For Test set: 0.3054929126928249\n"
     ]
    }
   ],
   "source": [
    "print(\"Mean Squared error i.e. the average deviation of predicted values from actual values:\")\n",
    "y_train_pred = model.predict(X_train)\n",
    "train_rmse = np.sqrt(mean_squared_error(y_train, y_train_pred))\n",
    "print(\"1) For Training set: {0}\".format(train_rmse))\n",
    "\n",
    "y_test_pred = model.predict(X_test)\n",
    "test_rmse = np.sqrt(mean_squared_error(y_test, y_test_pred))\n",
    "print(\"2) For Test set: {0}\".format(test_rmse))"
   ]
  },
  {
   "cell_type": "markdown",
   "metadata": {},
   "source": [
    "Moreover, the mean squared error also has gone down"
   ]
  },
  {
   "cell_type": "markdown",
   "metadata": {},
   "source": [
    "Need to do cross validation to gain the confidence that the above achieved accuracy of ~.90% will behave as good for other test sets also"
   ]
  },
  {
   "cell_type": "code",
   "execution_count": 85,
   "metadata": {},
   "outputs": [
    {
     "data": {
      "text/plain": [
       "array([0.81720569, 0.82917058, 0.90214134, 0.80633989, 0.94495637])"
      ]
     },
     "execution_count": 85,
     "metadata": {},
     "output_type": "execute_result"
    }
   ],
   "source": [
    "reg = LinearRegression()\n",
    "cv_scores = cross_val_score(reg, X, y, cv = 5)\n",
    "cv_scores"
   ]
  },
  {
   "cell_type": "code",
   "execution_count": 86,
   "metadata": {},
   "outputs": [
    {
     "name": "stdout",
     "output_type": "stream",
     "text": [
      "Minimum accuracy that we can expect over test data is: 0.8063398862588594\n",
      "Maximum accuracy that we can expect over test data is: 0.9449563689078624\n",
      "However, Avg. accuracy that we can expect over test data is: 0.8599627722792024\n"
     ]
    }
   ],
   "source": [
    "print(\"Minimum accuracy that we can expect over test data is: {0}\".format(min(cv_scores)))\n",
    "print(\"Maximum accuracy that we can expect over test data is: {0}\".format(max(cv_scores)))\n",
    "print(\"However, Avg. accuracy that we can expect over test data is: {0}\".format(np.mean(cv_scores)))"
   ]
  },
  {
   "cell_type": "markdown",
   "metadata": {},
   "source": [
    "Cross Validatiion is a best way of comparing two models.\n",
    "\n",
    "For e.g Random Forest is giving .89 accuracy\n",
    "However, Knn is giving .90 accuracy\n",
    "\n",
    "Question: Which model is good and will behave well on test set?\n",
    "Solution is to use K-Fold Cross Validation, and find out the mean, Model having the greater mean can be selected for prediction."
   ]
  }
 ],
 "metadata": {
  "kernelspec": {
   "display_name": "Python 3",
   "language": "python",
   "name": "python3"
  },
  "language_info": {
   "codemirror_mode": {
    "name": "ipython",
    "version": 3
   },
   "file_extension": ".py",
   "mimetype": "text/x-python",
   "name": "python",
   "nbconvert_exporter": "python",
   "pygments_lexer": "ipython3",
   "version": "3.6.3"
  }
 },
 "nbformat": 4,
 "nbformat_minor": 2
}
